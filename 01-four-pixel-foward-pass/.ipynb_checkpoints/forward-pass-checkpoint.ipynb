{
 "cells": [
  {
   "cell_type": "markdown",
   "metadata": {},
   "source": [
    "<h1>Forward Pass on a four pixel (2x2) image<h1>"
   ]
  },
  {
   "cell_type": "markdown",
   "metadata": {},
   "source": [
    "<h1>Tensors</h1> \n",
    "\n",
    "Tensors are just n dimensional arrays, just like in NumPy or matrices in linear algebra.\n",
    "We can perform all sorts of mathematical operations on tensors, like matrix multiplication, transposing, etc.\n",
    "\n",
    "\n",
    "Anything that can be represented as a tensor is a good candidate to be the input of a neural net. \n",
    "\n",
    "For our very first neural network that we're going to build from scratch we'll create classifier that is able to distinguing between 4 different types of images (our images will be <b>very</b> small)\n"
   ]
  },
  {
   "cell_type": "code",
   "execution_count": 1,
   "metadata": {},
   "outputs": [],
   "source": [
    "# Import torch and a few submodules for convinience\n",
    "import torch\n",
    "import torch.nn as nn\n",
    "import torch.nn.functional as F\n",
    "\n",
    "# Import numpy for converting torch tensors to arrays that can be displayed\n",
    "import numpy as np\n",
    "\n",
    "# Import pyplot to plot things\n",
    "from matplotlib import pyplot as plt\n"
   ]
  },
  {
   "cell_type": "code",
   "execution_count": 2,
   "metadata": {},
   "outputs": [],
   "source": [
    "# Create a couple of tensors\n",
    "A = [[1, 2, 1],[0, 1, 0],[2, 3, 4]]\n",
    "tensor_A = torch.tensor(A)\n",
    "\n",
    "A = [[2, 5, 1],[6, 7, 1],[1, 8, 1]]\n",
    "tensor_B = torch.tensor(A)"
   ]
  },
  {
   "cell_type": "code",
   "execution_count": 3,
   "metadata": {},
   "outputs": [
    {
     "name": "stdout",
     "output_type": "stream",
     "text": [
      "tensor([[ 2, 10,  1],\n",
      "        [ 0,  7,  0],\n",
      "        [ 2, 24,  4]])\n"
     ]
    }
   ],
   "source": [
    "# Element Wise Multiplication\n",
    "print(tensor_A * tensor_B)"
   ]
  },
  {
   "cell_type": "code",
   "execution_count": 4,
   "metadata": {},
   "outputs": [
    {
     "name": "stdout",
     "output_type": "stream",
     "text": [
      "tensor([[15, 27,  4],\n",
      "        [ 6,  7,  1],\n",
      "        [26, 63,  9]])\n"
     ]
    }
   ],
   "source": [
    "# Matrix Multiplication (Dot product)\n",
    "print(tensor_A @ tensor_B)"
   ]
  },
  {
   "cell_type": "code",
   "execution_count": 5,
   "metadata": {},
   "outputs": [],
   "source": [
    "image = np.array(tensor_A)"
   ]
  },
  {
   "cell_type": "code",
   "execution_count": 6,
   "metadata": {},
   "outputs": [
    {
     "data": {
      "image/png": "[encoded data removed]",
      "text/plain": [
       "<Figure size 432x288 with 1 Axes>"
      ]
     },
     "metadata": {
      "needs_background": "light"
     },
     "output_type": "display_data"
    }
   ],
   "source": [
    "plt.imshow(image, cmap='gray')\n",
    "plt.show()"
   ]
  },
  {
   "cell_type": "markdown",
   "metadata": {},
   "source": [
    "<h1> Image classifier </h1>\n",
    "    \n",
    " We'll start with a 2 layer fully connected network that can classify between solid, vertical, diagonal and horizontal images. \n",
    " \n",
    " <img src=\"imgs/network.jpg\">\n",
    " \n",
    " <br> Bellow is a sample input image."
   ]
  },
  {
   "cell_type": "code",
   "execution_count": 7,
   "metadata": {},
   "outputs": [
    {
     "data": {
      "image/png": "[encoded data removed]",
      "text/plain": [
       "<Figure size 432x288 with 1 Axes>"
      ]
     },
     "metadata": {
      "needs_background": "light"
     },
     "output_type": "display_data"
    }
   ],
   "source": [
    "# Create our input image\n",
    "image_array = [[-1, -1], \n",
    "               [1, 1]]\n",
    "\n",
    "image_array = [[.5, 0], \n",
    "               [.75, -.75]]\n",
    "\n",
    "\n",
    "# Make it into a tensor\n",
    "image_tensor = torch.Tensor(image_array)\n",
    "plt.imshow(image_array, cmap='gray', vmin=-1, vmax=1)\n",
    "plt.show()"
   ]
  },
  {
   "cell_type": "markdown",
   "metadata": {},
   "source": [
    "For this example will be using a Fully Connected (FC) Layer. An FC layer is called Linear in PyTorch.\n",
    "To take advantage of a FC layer we must first display our image as a vector. Note that the simplest form of a FC layer is a single neuron.\n",
    "\n",
    "<img src=\"./imgs/input_vector.jpg\">"
   ]
  },
  {
   "cell_type": "code",
   "execution_count": 8,
   "metadata": {},
   "outputs": [
    {
     "name": "stdout",
     "output_type": "stream",
     "text": [
      "tensor([ 0.5000,  0.0000,  0.7500, -0.7500])\n"
     ]
    }
   ],
   "source": [
    "# Flatten the image\n",
    "x0 = torch.flatten(image_tensor)\n",
    "\n",
    "print(x0)"
   ]
  },
  {
   "cell_type": "markdown",
   "metadata": {},
   "source": [
    "Now that we've flattened our image. Let's use it as input to a single neuron. Our example neuron takes a weighted sum of our input."
   ]
  },
  {
   "cell_type": "markdown",
   "metadata": {},
   "source": [
    "<img src=\"./imgs/neuron.jpg\">"
   ]
  },
  {
   "cell_type": "code",
   "execution_count": 9,
   "metadata": {},
   "outputs": [
    {
     "name": "stdout",
     "output_type": "stream",
     "text": [
      "tensor(-1.0750, grad_fn=<DotBackward>)\n",
      "-1.0750000000000002\n"
     ]
    }
   ],
   "source": [
    "# Fully Connected Layer\n",
    "# with 4 inputs and 1 output\n",
    "fc0 = nn.Linear(4, 1, bias = False)\n",
    "\n",
    "# Layers are usualy randomly initialized but for this example we will hard code the weights\n",
    "fc0.weight.data = torch.Tensor([-.2, 0, -.5, .8])\n",
    "\n",
    "# We can also represent a neuron or a fully connected layer as an array\n",
    "A = [-.2, 0, -.5, .8]\n",
    "\n",
    "# Applying the function fc0 to x yields the same result as the matrix multiplicaiton of x and A\n",
    "x1 = fc0(x0)\n",
    "print(x1)\n",
    "print(np.array(x0) @ A)\n"
   ]
  },
  {
   "cell_type": "markdown",
   "metadata": {},
   "source": [
    "# Activation Function\n",
    "\n",
    "We often simplify our tensors by constraning them to a range.\n",
    "<img src=\"imgs/sigmoid.jpg\">"
   ]
  },
  {
   "cell_type": "code",
   "execution_count": 10,
   "metadata": {},
   "outputs": [
    {
     "data": {
      "text/plain": [
       "tensor(-0.7913, grad_fn=<TanhBackward>)"
      ]
     },
     "execution_count": 10,
     "metadata": {},
     "output_type": "execute_result"
    }
   ],
   "source": [
    "torch.tanh(x1)"
   ]
  },
  {
   "cell_type": "markdown",
   "metadata": {},
   "source": [
    "To summerize what we've done so far:\n",
    "- Take an input image and flatten it into a vector\n",
    "- Define a neuron with hardcoded weights\n",
    "- Feed our input vector to the neuron\n",
    "- Pass the output of the neuron through a squashing function\n",
    "\n",
    "Believe it or not, we have all (most) of the components we need to create a full neural network. Now we'll scale up from a single neuron to 2 FC layers with 4 neurons each.\n",
    "\n",
    "Our first fully connected layer will consist of 4 neurons that activate when a certain combination of pixels is encountered in the input image.\n",
    "\n",
    "<img src=\"./imgs/fc1.jpg\">"
   ]
  },
  {
   "cell_type": "code",
   "execution_count": 11,
   "metadata": {},
   "outputs": [
    {
     "name": "stdout",
     "output_type": "stream",
     "text": [
      "Parameter containing:\n",
      "tensor([[ 1.,  0.,  1.,  0.],\n",
      "        [ 0.,  1.,  0.,  1.],\n",
      "        [ 1.,  0., -1.,  0.],\n",
      "        [ 0.,  1.,  0., -1.]], requires_grad=True)\n"
     ]
    }
   ],
   "source": [
    "fc1 = nn.Linear(4, 4, bias = False)\n",
    "fc1.weight.data = torch.Tensor([[1, 0, 1, 0],\n",
    "                                [0, 1, 0, 1],\n",
    "                                [1, 0, -1, 0],\n",
    "                                [0, 1, 0, -1],])\n",
    "print(fc1.weight)\n"
   ]
  },
  {
   "cell_type": "code",
   "execution_count": null,
   "metadata": {},
   "outputs": [],
   "source": []
  },
  {
   "cell_type": "code",
   "execution_count": 12,
   "metadata": {},
   "outputs": [
    {
     "data": {
      "text/plain": [
       "tensor(0.2545, grad_fn=<SigmoidBackward>)"
      ]
     },
     "execution_count": 12,
     "metadata": {},
     "output_type": "execute_result"
    }
   ],
   "source": [
    "# Pass through sigmoid activation function\n",
    "x1 = torch.sigmoid(x1)\n",
    "x1"
   ]
  },
  {
   "cell_type": "markdown",
   "metadata": {},
   "source": [
    "<img src=\"./imgs/fc2.jpg\">"
   ]
  },
  {
   "cell_type": "code",
   "execution_count": 13,
   "metadata": {},
   "outputs": [
    {
     "name": "stdout",
     "output_type": "stream",
     "text": [
      "tensor(0.2545, grad_fn=<SigmoidBackward>)\n",
      "Parameter containing:\n",
      "tensor([[ 1.,  1.,  1.,  1.],\n",
      "        [-1.,  1., -1.,  1.],\n",
      "        [ 1., -1., -1.,  1.],\n",
      "        [ 1.,  1., -1., -1.]], requires_grad=True)\n",
      "tensor([ 1.2500, -0.7500, -0.2500,  0.7500], grad_fn=<SqueezeBackward3>)\n",
      "tensor([ 1., -1.,  3.,  0.], grad_fn=<SqueezeBackward3>)\n"
     ]
    }
   ],
   "source": [
    "print(x1)\n",
    "fc2 = nn.Linear(4, 4, bias = False)\n",
    "fc2.weight.data = torch.Tensor([[1, 1, 1, 1],\n",
    "                                [-1, 1, -1, 1],\n",
    "                                [1, -1, -1, 1],\n",
    "                                [1, 1, -1, -1],])\n",
    "\n",
    "print(fc2.weight)\n",
    "x1 = fc1(x0)\n",
    "x2 = fc2(x1)\n",
    "\n",
    "print(x1)\n",
    "print(x2)"
   ]
  },
  {
   "cell_type": "code",
   "execution_count": 14,
   "metadata": {},
   "outputs": [
    {
     "data": {
      "text/plain": [
       "tensor([ 1., -1.,  3.,  0.], grad_fn=<SqueezeBackward3>)"
      ]
     },
     "execution_count": 14,
     "metadata": {},
     "output_type": "execute_result"
    }
   ],
   "source": [
    "torch.sigmoid(x2)\n",
    "torch.relu(x2)\n",
    "\n",
    "x2"
   ]
  },
  {
   "cell_type": "markdown",
   "metadata": {},
   "source": [
    "# Forward Pass"
   ]
  },
  {
   "cell_type": "code",
   "execution_count": 15,
   "metadata": {},
   "outputs": [
    {
     "name": "stdout",
     "output_type": "stream",
     "text": [
      "Parameter containing:\n",
      "tensor([[ 1.,  0.,  1.,  0.],\n",
      "        [ 0.,  1.,  0.,  1.],\n",
      "        [ 1.,  0., -1.,  0.],\n",
      "        [ 0.,  1.,  0., -1.]], requires_grad=True)\n"
     ]
    },
    {
     "data": {
      "text/plain": [
       "tensor([ 0.0000,  0.0000, -0.9640, -0.9640], grad_fn=<TanhBackward>)"
      ]
     },
     "execution_count": 15,
     "metadata": {},
     "output_type": "execute_result"
    }
   ],
   "source": [
    "x = torch.Tensor([[-1, -1], \n",
    "                   [1, 1]])\n",
    "x = torch.flatten(x)\n",
    "\n",
    "fc1 = nn.Linear(4, 4, bias = False)\n",
    "fc1.weight.data = torch.Tensor([[1, 0, 1, 0],\n",
    "                                [0, 1, 0, 1],\n",
    "                                [1, 0, -1, 0],\n",
    "                                [0, 1, 0, -1],])\n",
    "print(fc1.weight)\n",
    "x = fc1(x)\n",
    "x = torch.tanh(x)\n",
    "x"
   ]
  },
  {
   "cell_type": "code",
   "execution_count": 16,
   "metadata": {},
   "outputs": [
    {
     "name": "stdout",
     "output_type": "stream",
     "text": [
      "Parameter containing:\n",
      "tensor([[ 1.,  1.,  0.,  0.],\n",
      "        [-1.,  1.,  0.,  0.],\n",
      "        [ 0.,  0.,  1., -1.],\n",
      "        [ 0.,  0.,  1.,  1.]], requires_grad=True)\n"
     ]
    },
    {
     "data": {
      "text/plain": [
       "tensor([ 0.0000,  0.0000,  0.0000, -0.9586], grad_fn=<TanhBackward>)"
      ]
     },
     "execution_count": 16,
     "metadata": {},
     "output_type": "execute_result"
    }
   ],
   "source": [
    "fc2 = nn.Linear(4, 4, bias = False)\n",
    "fc2.weight.data = torch.Tensor([[1, 1, 0, 0],\n",
    "                                [-1, 1, 0, 0],\n",
    "                                [0, 0, 1, -1],\n",
    "                                [0, 0, 1, 1]])\n",
    "\n",
    "# Weights might be wrong\n",
    "print(fc2.weight)\n",
    "\n",
    "x = fc2(x)\n",
    "x = torch.tanh(x)\n",
    "x"
   ]
  },
  {
   "cell_type": "code",
   "execution_count": 17,
   "metadata": {},
   "outputs": [
    {
     "data": {
      "text/plain": [
       "tensor([0.0000, 0.0000, 0.0000, 0.0000, 0.0000, 0.0000, 0.0000, 0.9586],\n",
       "       grad_fn=<ReluBackward0>)"
      ]
     },
     "execution_count": 17,
     "metadata": {},
     "output_type": "execute_result"
    }
   ],
   "source": [
    "# Output Layer\n",
    "fc3 = nn.Linear(4, 8, bias = False)\n",
    "fc3.weight.data = torch.Tensor([[1, 0, 0, 0],\n",
    "                                [-1, 0, 0, 0],\n",
    "                                [0, 1, 0, 0],\n",
    "                                [0, -1, 0, 0],\n",
    "                                [0, 0, 1, 0],\n",
    "                                [0, 0, -1, 0],\n",
    "                                [0, 0, 0, 1],\n",
    "                                [0, 0, 0, -1]])\n",
    "\n",
    "x = fc3(x)\n",
    "x = F.relu(x)\n",
    "x"
   ]
  },
  {
   "cell_type": "code",
   "execution_count": 32,
   "metadata": {},
   "outputs": [],
   "source": [
    "def forward(x):\n",
    "    \n",
    "    # Flatten\n",
    "    x = torch.flatten(x)\n",
    "    \n",
    "    # Define fc1\n",
    "    fc1 = nn.Linear(4, 4, bias = False)\n",
    "    fc1.weight.data = torch.Tensor([[1, 0, 1, 0],\n",
    "                                    [0, 1, 0, 1],\n",
    "                                    [1, 0, -1, 0],\n",
    "                                    [0, 1, 0, -1],])\n",
    "    # Apply fc1\n",
    "    x = fc1(x)\n",
    "    # Apply activation function to output of fc1\n",
    "    x = torch.tanh(x)\n",
    "    print(x.shape)\n",
    "    \n",
    "    # Define fc2\n",
    "    fc2 = nn.Linear(4, 4, bias = False)\n",
    "    fc2.weight.data = torch.Tensor([[1, 1, 0, 0],\n",
    "                                    [-1, 1, 0, 0],\n",
    "                                    [0, 0, 1, -1],\n",
    "                                    [0, 0, 1, 1]])\n",
    "    # Apply fc2\n",
    "    x = fc2(x)\n",
    "    # Apply activation function to output of fc2\n",
    "    x = torch.tanh(x)\n",
    "    print(x.shape)\n",
    "    \n",
    "    # Output layer\n",
    "    fc3 = nn.Linear(4, 8, bias = False)\n",
    "    fc3.weight.data = torch.Tensor([[1, 0, 0, 0],\n",
    "                                    [-1, 0, 0, 0],\n",
    "                                    [0, 1, 0, 0],\n",
    "                                    [0, -1, 0, 0],\n",
    "                                    [0, 0, 1, 0],\n",
    "                                    [0, 0, -1, 0],\n",
    "                                    [0, 0, 0, 1],\n",
    "                                    [0, 0, 0, -1]])\n",
    "\n",
    "    x = fc3(x)\n",
    "    x = F.relu(x)\n",
    "    print(fc3.weight.data.shape)\n",
    "    print(fc3.weight.data)\n",
    "    print(x.shape)\n",
    "    \n",
    "    fc4 = nn.Linear(8, 4, bias=False)\n",
    "    fc4.weight.data = torch.Tensor([[1, 0, 0, 0],\n",
    "                                    [1, 0, 0, 0],\n",
    "                                    [0, 1, 0, 0],\n",
    "                                    [0, 1, 0, 0],\n",
    "                                    [0, 0, 1, 0],\n",
    "                                    [0, 0, 1, 0],\n",
    "                                    [0, 0, 0, 1],\n",
    "                                    [0, 0, 0, 1]])\n",
    "    print(fc4.weight.data.shape)\n",
    "    print(fc4.weight.data)\n",
    "    print(x.shape)\n",
    "    x = fc4(x)\n",
    "    \n",
    "    return x\n",
    "    "
   ]
  },
  {
   "cell_type": "code",
   "execution_count": 33,
   "metadata": {},
   "outputs": [],
   "source": [
    "def label_map(x):\n",
    "    \n",
    "    cls = list(x).index(max(x))\n",
    "    \n",
    "    if cls == 0 or cls == 1:\n",
    "        return \"solid\"\n",
    "    if cls == 2 or cls == 3:\n",
    "        return \"vertical\"\n",
    "    if cls == 4 or cls == 5:\n",
    "        return \"diagonal\"\n",
    "    if cls == 6 or cls ==7:\n",
    "        return \"horizontal\""
   ]
  },
  {
   "cell_type": "code",
   "execution_count": null,
   "metadata": {},
   "outputs": [],
   "source": [
    "\n"
   ]
  },
  {
   "cell_type": "code",
   "execution_count": null,
   "metadata": {},
   "outputs": [],
   "source": []
  },
  {
   "cell_type": "code",
   "execution_count": 34,
   "metadata": {},
   "outputs": [
    {
     "name": "stdout",
     "output_type": "stream",
     "text": [
      "torch.Size([4])\n",
      "torch.Size([4])\n",
      "torch.Size([8, 4])\n",
      "tensor([[ 1.,  0.,  0.,  0.],\n",
      "        [-1.,  0.,  0.,  0.],\n",
      "        [ 0.,  1.,  0.,  0.],\n",
      "        [ 0., -1.,  0.,  0.],\n",
      "        [ 0.,  0.,  1.,  0.],\n",
      "        [ 0.,  0., -1.,  0.],\n",
      "        [ 0.,  0.,  0.,  1.],\n",
      "        [ 0.,  0.,  0., -1.]])\n",
      "torch.Size([8])\n",
      "torch.Size([8, 4])\n",
      "tensor([[1., 0., 0., 0.],\n",
      "        [1., 0., 0., 0.],\n",
      "        [0., 1., 0., 0.],\n",
      "        [0., 1., 0., 0.],\n",
      "        [0., 0., 1., 0.],\n",
      "        [0., 0., 1., 0.],\n",
      "        [0., 0., 0., 1.],\n",
      "        [0., 0., 0., 1.]])\n",
      "torch.Size([8])\n"
     ]
    },
    {
     "ename": "RuntimeError",
     "evalue": "mat1 and mat2 shapes cannot be multiplied (1x8 and 4x8)",
     "output_type": "error",
     "traceback": [
      "\u001b[0;31m---------------------------------------------------------------------------\u001b[0m",
      "\u001b[0;31mRuntimeError\u001b[0m                              Traceback (most recent call last)",
      "\u001b[0;32m<ipython-input-34-a0d74accc198>\u001b[0m in \u001b[0;36m<module>\u001b[0;34m\u001b[0m\n\u001b[1;32m      2\u001b[0m      [1, -1]]\n\u001b[1;32m      3\u001b[0m \u001b[0mx\u001b[0m \u001b[0;34m=\u001b[0m \u001b[0mtorch\u001b[0m\u001b[0;34m.\u001b[0m\u001b[0mTensor\u001b[0m\u001b[0;34m(\u001b[0m\u001b[0mx\u001b[0m\u001b[0;34m)\u001b[0m\u001b[0;34m\u001b[0m\u001b[0;34m\u001b[0m\u001b[0m\n\u001b[0;32m----> 4\u001b[0;31m \u001b[0mx\u001b[0m \u001b[0;34m=\u001b[0m \u001b[0mforward\u001b[0m\u001b[0;34m(\u001b[0m\u001b[0mx\u001b[0m\u001b[0;34m)\u001b[0m\u001b[0;34m\u001b[0m\u001b[0;34m\u001b[0m\u001b[0m\n\u001b[0m\u001b[1;32m      5\u001b[0m \u001b[0mlabel_map\u001b[0m\u001b[0;34m(\u001b[0m\u001b[0mnp\u001b[0m\u001b[0;34m.\u001b[0m\u001b[0marray\u001b[0m\u001b[0;34m(\u001b[0m\u001b[0mx\u001b[0m\u001b[0;34m.\u001b[0m\u001b[0mdetach\u001b[0m\u001b[0;34m(\u001b[0m\u001b[0;34m)\u001b[0m\u001b[0;34m)\u001b[0m\u001b[0;34m)\u001b[0m\u001b[0;34m\u001b[0m\u001b[0;34m\u001b[0m\u001b[0m\n",
      "\u001b[0;32m<ipython-input-32-002eef8f524e>\u001b[0m in \u001b[0;36mforward\u001b[0;34m(x)\u001b[0m\n\u001b[1;32m     57\u001b[0m     \u001b[0mprint\u001b[0m\u001b[0;34m(\u001b[0m\u001b[0mfc4\u001b[0m\u001b[0;34m.\u001b[0m\u001b[0mweight\u001b[0m\u001b[0;34m.\u001b[0m\u001b[0mdata\u001b[0m\u001b[0;34m)\u001b[0m\u001b[0;34m\u001b[0m\u001b[0;34m\u001b[0m\u001b[0m\n\u001b[1;32m     58\u001b[0m     \u001b[0mprint\u001b[0m\u001b[0;34m(\u001b[0m\u001b[0mx\u001b[0m\u001b[0;34m.\u001b[0m\u001b[0mshape\u001b[0m\u001b[0;34m)\u001b[0m\u001b[0;34m\u001b[0m\u001b[0;34m\u001b[0m\u001b[0m\n\u001b[0;32m---> 59\u001b[0;31m     \u001b[0mx\u001b[0m \u001b[0;34m=\u001b[0m \u001b[0mfc4\u001b[0m\u001b[0;34m(\u001b[0m\u001b[0mx\u001b[0m\u001b[0;34m)\u001b[0m\u001b[0;34m\u001b[0m\u001b[0;34m\u001b[0m\u001b[0m\n\u001b[0m\u001b[1;32m     60\u001b[0m \u001b[0;34m\u001b[0m\u001b[0m\n\u001b[1;32m     61\u001b[0m     \u001b[0;32mreturn\u001b[0m \u001b[0mx\u001b[0m\u001b[0;34m\u001b[0m\u001b[0;34m\u001b[0m\u001b[0m\n",
      "\u001b[0;32m~/.local/lib/python3.8/site-packages/torch/nn/modules/module.py\u001b[0m in \u001b[0;36m_call_impl\u001b[0;34m(self, *input, **kwargs)\u001b[0m\n\u001b[1;32m    887\u001b[0m             \u001b[0mresult\u001b[0m \u001b[0;34m=\u001b[0m \u001b[0mself\u001b[0m\u001b[0;34m.\u001b[0m\u001b[0m_slow_forward\u001b[0m\u001b[0;34m(\u001b[0m\u001b[0;34m*\u001b[0m\u001b[0minput\u001b[0m\u001b[0;34m,\u001b[0m \u001b[0;34m**\u001b[0m\u001b[0mkwargs\u001b[0m\u001b[0;34m)\u001b[0m\u001b[0;34m\u001b[0m\u001b[0;34m\u001b[0m\u001b[0m\n\u001b[1;32m    888\u001b[0m         \u001b[0;32melse\u001b[0m\u001b[0;34m:\u001b[0m\u001b[0;34m\u001b[0m\u001b[0;34m\u001b[0m\u001b[0m\n\u001b[0;32m--> 889\u001b[0;31m             \u001b[0mresult\u001b[0m \u001b[0;34m=\u001b[0m \u001b[0mself\u001b[0m\u001b[0;34m.\u001b[0m\u001b[0mforward\u001b[0m\u001b[0;34m(\u001b[0m\u001b[0;34m*\u001b[0m\u001b[0minput\u001b[0m\u001b[0;34m,\u001b[0m \u001b[0;34m**\u001b[0m\u001b[0mkwargs\u001b[0m\u001b[0;34m)\u001b[0m\u001b[0;34m\u001b[0m\u001b[0;34m\u001b[0m\u001b[0m\n\u001b[0m\u001b[1;32m    890\u001b[0m         for hook in itertools.chain(\n\u001b[1;32m    891\u001b[0m                 \u001b[0m_global_forward_hooks\u001b[0m\u001b[0;34m.\u001b[0m\u001b[0mvalues\u001b[0m\u001b[0;34m(\u001b[0m\u001b[0;34m)\u001b[0m\u001b[0;34m,\u001b[0m\u001b[0;34m\u001b[0m\u001b[0;34m\u001b[0m\u001b[0m\n",
      "\u001b[0;32m~/.local/lib/python3.8/site-packages/torch/nn/modules/linear.py\u001b[0m in \u001b[0;36mforward\u001b[0;34m(self, input)\u001b[0m\n\u001b[1;32m     92\u001b[0m \u001b[0;34m\u001b[0m\u001b[0m\n\u001b[1;32m     93\u001b[0m     \u001b[0;32mdef\u001b[0m \u001b[0mforward\u001b[0m\u001b[0;34m(\u001b[0m\u001b[0mself\u001b[0m\u001b[0;34m,\u001b[0m \u001b[0minput\u001b[0m\u001b[0;34m:\u001b[0m \u001b[0mTensor\u001b[0m\u001b[0;34m)\u001b[0m \u001b[0;34m->\u001b[0m \u001b[0mTensor\u001b[0m\u001b[0;34m:\u001b[0m\u001b[0;34m\u001b[0m\u001b[0;34m\u001b[0m\u001b[0m\n\u001b[0;32m---> 94\u001b[0;31m         \u001b[0;32mreturn\u001b[0m \u001b[0mF\u001b[0m\u001b[0;34m.\u001b[0m\u001b[0mlinear\u001b[0m\u001b[0;34m(\u001b[0m\u001b[0minput\u001b[0m\u001b[0;34m,\u001b[0m \u001b[0mself\u001b[0m\u001b[0;34m.\u001b[0m\u001b[0mweight\u001b[0m\u001b[0;34m,\u001b[0m \u001b[0mself\u001b[0m\u001b[0;34m.\u001b[0m\u001b[0mbias\u001b[0m\u001b[0;34m)\u001b[0m\u001b[0;34m\u001b[0m\u001b[0;34m\u001b[0m\u001b[0m\n\u001b[0m\u001b[1;32m     95\u001b[0m \u001b[0;34m\u001b[0m\u001b[0m\n\u001b[1;32m     96\u001b[0m     \u001b[0;32mdef\u001b[0m \u001b[0mextra_repr\u001b[0m\u001b[0;34m(\u001b[0m\u001b[0mself\u001b[0m\u001b[0;34m)\u001b[0m \u001b[0;34m->\u001b[0m \u001b[0mstr\u001b[0m\u001b[0;34m:\u001b[0m\u001b[0;34m\u001b[0m\u001b[0;34m\u001b[0m\u001b[0m\n",
      "\u001b[0;32m~/.local/lib/python3.8/site-packages/torch/nn/functional.py\u001b[0m in \u001b[0;36mlinear\u001b[0;34m(input, weight, bias)\u001b[0m\n\u001b[1;32m   1751\u001b[0m     \u001b[0;32mif\u001b[0m \u001b[0mhas_torch_function_variadic\u001b[0m\u001b[0;34m(\u001b[0m\u001b[0minput\u001b[0m\u001b[0;34m,\u001b[0m \u001b[0mweight\u001b[0m\u001b[0;34m)\u001b[0m\u001b[0;34m:\u001b[0m\u001b[0;34m\u001b[0m\u001b[0;34m\u001b[0m\u001b[0m\n\u001b[1;32m   1752\u001b[0m         \u001b[0;32mreturn\u001b[0m \u001b[0mhandle_torch_function\u001b[0m\u001b[0;34m(\u001b[0m\u001b[0mlinear\u001b[0m\u001b[0;34m,\u001b[0m \u001b[0;34m(\u001b[0m\u001b[0minput\u001b[0m\u001b[0;34m,\u001b[0m \u001b[0mweight\u001b[0m\u001b[0;34m)\u001b[0m\u001b[0;34m,\u001b[0m \u001b[0minput\u001b[0m\u001b[0;34m,\u001b[0m \u001b[0mweight\u001b[0m\u001b[0;34m,\u001b[0m \u001b[0mbias\u001b[0m\u001b[0;34m=\u001b[0m\u001b[0mbias\u001b[0m\u001b[0;34m)\u001b[0m\u001b[0;34m\u001b[0m\u001b[0;34m\u001b[0m\u001b[0m\n\u001b[0;32m-> 1753\u001b[0;31m     \u001b[0;32mreturn\u001b[0m \u001b[0mtorch\u001b[0m\u001b[0;34m.\u001b[0m\u001b[0m_C\u001b[0m\u001b[0;34m.\u001b[0m\u001b[0m_nn\u001b[0m\u001b[0;34m.\u001b[0m\u001b[0mlinear\u001b[0m\u001b[0;34m(\u001b[0m\u001b[0minput\u001b[0m\u001b[0;34m,\u001b[0m \u001b[0mweight\u001b[0m\u001b[0;34m,\u001b[0m \u001b[0mbias\u001b[0m\u001b[0;34m)\u001b[0m\u001b[0;34m\u001b[0m\u001b[0;34m\u001b[0m\u001b[0m\n\u001b[0m\u001b[1;32m   1754\u001b[0m \u001b[0;34m\u001b[0m\u001b[0m\n\u001b[1;32m   1755\u001b[0m \u001b[0;34m\u001b[0m\u001b[0m\n",
      "\u001b[0;31mRuntimeError\u001b[0m: mat1 and mat2 shapes cannot be multiplied (1x8 and 4x8)"
     ]
    }
   ],
   "source": [
    "x = [[-1, 1], \n",
    "     [1, -1]]\n",
    "x = torch.Tensor(x)\n",
    "x = forward(x)\n",
    "label_map(np.array(x.detach()))"
   ]
  },
  {
   "cell_type": "code",
   "execution_count": null,
   "metadata": {},
   "outputs": [],
   "source": []
  },
  {
   "cell_type": "code",
   "execution_count": null,
   "metadata": {},
   "outputs": [],
   "source": []
  }
 ],
 "metadata": {
  "kernelspec": {
   "display_name": "Python 3",
   "language": "python",
   "name": "python3"
  },
  "language_info": {
   "codemirror_mode": {
    "name": "ipython",
    "version": 3
   },
   "file_extension": ".py",
   "mimetype": "text/x-python",
   "name": "python",
   "nbconvert_exporter": "python",
   "pygments_lexer": "ipython3",
   "version": "3.8.5"
  }
 },
 "nbformat": 4,
 "nbformat_minor": 4
}
